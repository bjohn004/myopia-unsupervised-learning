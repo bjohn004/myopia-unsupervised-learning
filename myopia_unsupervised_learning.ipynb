{
 "cells": [
  {
   "cell_type": "markdown",
   "id": "10ff3ea5",
   "metadata": {},
   "source": [
    "# Dependencies"
   ]
  },
  {
   "cell_type": "code",
   "execution_count": null,
   "id": "a41a0f3a",
   "metadata": {},
   "outputs": [],
   "source": [
    "import pandas as pd\n",
    "from sklearn.preprocessing import StandardScaler\n",
    "from sklearn.model_selection import GridSearchCV\n",
    "from sklearn.model_selection import train_test_split"
   ]
  },
  {
   "cell_type": "markdown",
   "id": "b43e3b5e",
   "metadata": {},
   "source": [
    "# Part 1: Prepare the Data"
   ]
  },
  {
   "cell_type": "code",
   "execution_count": null,
   "id": "c3cff7a9",
   "metadata": {},
   "outputs": [],
   "source": [
    "file = \"myopia.csv\"\n",
    "df = pd.read_csv(file)"
   ]
  },
  {
   "cell_type": "code",
   "execution_count": null,
   "id": "398a0bfd",
   "metadata": {},
   "outputs": [],
   "source": [
    "df"
   ]
  },
  {
   "cell_type": "code",
   "execution_count": null,
   "id": "950a08f9",
   "metadata": {},
   "outputs": [],
   "source": [
    "df_unsupervised = df.drop(\"MYOPIC\", axis=1)\n",
    "df_unsupervised"
   ]
  },
  {
   "cell_type": "code",
   "execution_count": null,
   "id": "dceedc18",
   "metadata": {},
   "outputs": [],
   "source": [
    "# define X and y variables\n",
    "X = df_unsupervised\n",
    "y = df[\"MYOPIC\"]"
   ]
  },
  {
   "cell_type": "code",
   "execution_count": null,
   "id": "42ceb3cd",
   "metadata": {},
   "outputs": [],
   "source": [
    "X.shape"
   ]
  },
  {
   "cell_type": "code",
   "execution_count": null,
   "id": "72647472",
   "metadata": {},
   "outputs": [],
   "source": [
    "y.shape"
   ]
  },
  {
   "cell_type": "code",
   "execution_count": null,
   "id": "3b714b2b",
   "metadata": {},
   "outputs": [],
   "source": [
    "df[\"MYOPIC\"].shape"
   ]
  },
  {
   "cell_type": "code",
   "execution_count": null,
   "id": "22c6a904",
   "metadata": {},
   "outputs": [],
   "source": [
    "# split data\n",
    "X_train, X_test, y_train, y_test = train_test_split(X, y, random_state=1)"
   ]
  },
  {
   "cell_type": "code",
   "execution_count": null,
   "id": "843dfbfe",
   "metadata": {},
   "outputs": [],
   "source": [
    "# Scale data\n",
    "X_scaler = StandardScaler()\n",
    "X_scaler.fit(X_train)\n",
    "X_train_scaled = X_scaler.transform(X_train)\n",
    "X_test_scaled = X_scaler.transform(X_test)"
   ]
  },
  {
   "cell_type": "code",
   "execution_count": null,
   "id": "373e228c",
   "metadata": {},
   "outputs": [],
   "source": [
    "X_train_scaled"
   ]
  },
  {
   "cell_type": "markdown",
   "id": "2f141731",
   "metadata": {},
   "source": [
    "# Part 2: Apply Dimensionality Reduction"
   ]
  },
  {
   "cell_type": "markdown",
   "id": "6c38fe3c",
   "metadata": {},
   "source": [
    "## Perform PCA"
   ]
  },
  {
   "cell_type": "code",
   "execution_count": null,
   "id": "b235c45d",
   "metadata": {},
   "outputs": [],
   "source": [
    "# import PCA\n",
    "from sklearn.decomposition import PCA"
   ]
  },
  {
   "cell_type": "code",
   "execution_count": null,
   "id": "f431c15d",
   "metadata": {},
   "outputs": [],
   "source": [
    "# define componets/explained_variance\n",
    "pca = PCA(n_components = 0.9)"
   ]
  },
  {
   "cell_type": "code",
   "execution_count": null,
   "id": "4ebf8812",
   "metadata": {},
   "outputs": [],
   "source": [
    "# fit/tranform model\n",
    "myopia_pca = pca.fit_transform(X_train_scaled)"
   ]
  },
  {
   "cell_type": "code",
   "execution_count": null,
   "id": "38c962ed",
   "metadata": {},
   "outputs": [],
   "source": [
    "myopia_pca.shape"
   ]
  },
  {
   "cell_type": "code",
   "execution_count": null,
   "id": "3365955e",
   "metadata": {},
   "outputs": [],
   "source": [
    "# define new dataframe and view\n",
    "df_unsupervised_myopia = pd.DataFrame(data=myopia_pca)\n",
    "df_unsupervised_myopia"
   ]
  },
  {
   "cell_type": "code",
   "execution_count": null,
   "id": "00017955",
   "metadata": {},
   "outputs": [],
   "source": [
    "df_unsupervised_myopia[\"class\"]=pca.labels_"
   ]
  },
  {
   "cell_type": "markdown",
   "id": "dc18f764",
   "metadata": {},
   "source": [
    "## Perform TSNE"
   ]
  },
  {
   "cell_type": "code",
   "execution_count": null,
   "id": "a715007e",
   "metadata": {},
   "outputs": [],
   "source": [
    "#import TSNE\n",
    "from sklearn.manifold import TSNE"
   ]
  },
  {
   "cell_type": "code",
   "execution_count": null,
   "id": "45a795d5",
   "metadata": {},
   "outputs": [],
   "source": [
    "# fit TSNE model to PCA dataframe\n",
    "tsne = TSNE(learning_rate=250)\n",
    "tsne_features = tsne.fit_transform(df_unsupervised_myopia)"
   ]
  },
  {
   "cell_type": "code",
   "execution_count": null,
   "id": "b38bced3",
   "metadata": {},
   "outputs": [],
   "source": [
    "# look at shape\n",
    "tsne_features.shape"
   ]
  },
  {
   "cell_type": "code",
   "execution_count": null,
   "id": "c8a89d77",
   "metadata": {},
   "outputs": [],
   "source": [
    "# import plotting abilities and plot TSNE\n",
    "import matplotlib.pyplot as plt\n",
    "plt.scatter(tsne_features[:,0], tsne_features[:,1])\n",
    "plt.show()"
   ]
  },
  {
   "cell_type": "markdown",
   "id": "0676d3ee",
   "metadata": {},
   "source": [
    "# Part 3: Peform a Cluster Analysis with K-menas"
   ]
  },
  {
   "cell_type": "code",
   "execution_count": null,
   "id": "40c38fc5",
   "metadata": {},
   "outputs": [],
   "source": [
    "# import KMeans\n",
    "from sklearn.cluster import KMeans"
   ]
  },
  {
   "cell_type": "code",
   "execution_count": null,
   "id": "77815969",
   "metadata": {},
   "outputs": [],
   "source": [
    "# perform for loop to find elbow\n",
    "inertia = []\n",
    "k = list(range(1,11))\n",
    "for i in k:\n",
    "    km = KMeans(n_clusters=i, random_state=0)\n",
    "    km.fit(df_unsupervised)\n",
    "    inertia.append(km.inertia_)"
   ]
  },
  {
   "cell_type": "code",
   "execution_count": null,
   "id": "d3286edf",
   "metadata": {},
   "outputs": [],
   "source": [
    "# create elbow curve by defining elbow data\n",
    "elbow_data = {\"k\":k, \"inertia\": inertia}\n",
    "df_elbow = pd.DataFrame(elbow_data)\n",
    "df_elbow.head()"
   ]
  },
  {
   "cell_type": "code",
   "execution_count": null,
   "id": "b1b5edac",
   "metadata": {},
   "outputs": [],
   "source": [
    "# create elbow curve\n",
    "plt.plot(df_elbow['k'], df_elbow['inertia'])\n",
    "plt.xticks(range(1,11))\n",
    "plt.xlabel('Number of Clusters')\n",
    "plt.ylabel('Inertia')\n",
    "plt.title('Elbow curve of Myopic data')\n",
    "plt.show()"
   ]
  },
  {
   "cell_type": "code",
   "execution_count": null,
   "id": "76d4fce6",
   "metadata": {},
   "outputs": [],
   "source": [
    "# instantiate KMeans model with defined cluster amount of 3\n",
    "model = KMeans(n_clusters=3)"
   ]
  },
  {
   "cell_type": "code",
   "execution_count": null,
   "id": "eebe4c12",
   "metadata": {},
   "outputs": [],
   "source": [
    "# fit model to PCA ouutput data and predict clusters\n",
    "model.fit(myopia_pca)\n",
    "predicted_clusters = model.predict(myopia_pca)"
   ]
  },
  {
   "cell_type": "code",
   "execution_count": null,
   "id": "1a39e2f4",
   "metadata": {},
   "outputs": [],
   "source": []
  },
  {
   "cell_type": "code",
   "execution_count": null,
   "id": "5c5abcdd",
   "metadata": {},
   "outputs": [],
   "source": [
    "# scatter plot\n",
    "plt.scatter(tsne_features[:,0], tsne_features[:,1], c=predicted_clusters)\n",
    "plt.show()"
   ]
  },
  {
   "cell_type": "markdown",
   "id": "488c2126",
   "metadata": {},
   "source": [
    "# Part 4: Make a Recommendation"
   ]
  },
  {
   "cell_type": "code",
   "execution_count": null,
   "id": "2398b8e6",
   "metadata": {},
   "outputs": [],
   "source": []
  }
 ],
 "metadata": {
  "kernelspec": {
   "display_name": "Python 3 (ipykernel)",
   "language": "python",
   "name": "python3"
  },
  "language_info": {
   "codemirror_mode": {
    "name": "ipython",
    "version": 3
   },
   "file_extension": ".py",
   "mimetype": "text/x-python",
   "name": "python",
   "nbconvert_exporter": "python",
   "pygments_lexer": "ipython3",
   "version": "3.8.13"
  }
 },
 "nbformat": 4,
 "nbformat_minor": 5
}
